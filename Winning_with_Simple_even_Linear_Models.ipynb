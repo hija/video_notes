{
 "cells": [
  {
   "cell_type": "markdown",
   "metadata": {},
   "source": [
    "# Winning with Simple, even Linear, Models\n",
    "\n",
    "**Author**: Vincent Warmerdam\n",
    "\n",
    "**Conference**: PyData London 2018\n",
    "\n",
    "**Abstract**: Simple models work. Linear models work. No need for deep learning or complex ensembles, you can often keep it simple. In this talk I'll discuss and demonstrate some winning tricks that you can apply on simple, even linear models.\n",
    "\n",
    "**Slides**: [here](resources/Winning_with_Simple_even_Linear_Models/simple-models.pdf).\n",
    "\n",
    "----"
   ]
  },
  {
   "cell_type": "markdown",
   "metadata": {},
   "source": [
    "## The XOR-Problem"
   ]
  },
  {
   "cell_type": "markdown",
   "metadata": {},
   "source": [
    "![XOR-Problem Visualization](resources/Winning_with_Simple_even_Linear_Models/img/xor.png)\n",
    "\n",
    "**Problem**: These two features cannot be separated linearily\n",
    "\n",
    "**Solution**: Apply Feature Engineering and add a third column ($x_1*x_2$). Now using these three features in a linear model enables the model to distinguish both classes pretty well."
   ]
  },
  {
   "cell_type": "markdown",
   "metadata": {},
   "source": []
  },
  {
   "cell_type": "markdown",
   "metadata": {},
   "source": []
  },
  {
   "cell_type": "markdown",
   "metadata": {},
   "source": []
  }
 ],
 "metadata": {
  "kernelspec": {
   "display_name": "Python 3.8.12 ('datascience')",
   "language": "python",
   "name": "python3"
  },
  "language_info": {
   "name": "python",
   "version": "3.8.12"
  },
  "orig_nbformat": 4,
  "vscode": {
   "interpreter": {
    "hash": "f529364f962c46b29bee8dbbead620c82c5e29dc2d772ca80d5b84ed0057240a"
   }
  }
 },
 "nbformat": 4,
 "nbformat_minor": 2
}
